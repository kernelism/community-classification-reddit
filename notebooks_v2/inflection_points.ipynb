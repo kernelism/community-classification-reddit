{
 "cells": [
  {
   "cell_type": "code",
   "execution_count": null,
   "metadata": {},
   "outputs": [],
   "source": [
    "import numpy as np\n",
    "import matplotlib.pyplot as plt\n",
    "import pickle\n",
    "from scipy.stats import gaussian_kde\n",
    "from scipy.signal import argrelextrema"
   ]
  },
  {
   "cell_type": "code",
   "execution_count": null,
   "metadata": {},
   "outputs": [],
   "source": [
    "# final kmatrix\n",
    "with open('../v2/final_kernel_matrix/complete_kernel_matrix_v2.pkl', 'rb') as f:\n",
    "    kmatrix = pickle.load(f)"
   ]
  },
  {
   "cell_type": "code",
   "execution_count": null,
   "metadata": {},
   "outputs": [],
   "source": [
    "similarity_matrix = np.array(kmatrix)\n",
    "similarity_matrix = (similarity_matrix + similarity_matrix.T) / 2\n",
    "\n",
    "np.fill_diagonal(similarity_matrix, 0) # Remove self-similarities\n",
    "\n",
    "# Flatten the matrix and remove zero values (self-similarities already removed)\n",
    "similarity_scores = similarity_matrix[np.triu_indices_from(similarity_matrix, k=1)]\n",
    "\n",
    "plt.figure(figsize=(10, 6))\n",
    "plt.hist(similarity_scores, bins=50, alpha=0.75, color='blue', range=(0, 0.01))\n",
    "plt.title('Histogram of Similarity Scores')\n",
    "plt.xlabel('Similarity Score')\n",
    "plt.ylabel('Frequency')\n",
    "plt.grid(True)\n",
    "plt.show()\n"
   ]
  },
  {
   "cell_type": "code",
   "execution_count": null,
   "metadata": {},
   "outputs": [],
   "source": [
    "# Step 1: KDE to estimate the probability density function\n",
    "kde = gaussian_kde(similarity_scores)\n",
    "x_grid = np.linspace(0, 0.01, 1000)  # Define a grid over our range of interest\n",
    "kde_pdf = kde.evaluate(x_grid)\n",
    "\n",
    "# Step 2: Calculate the second derivative\n",
    "kde_pdf_second_derivative = np.gradient(np.gradient(kde_pdf))\n",
    "\n",
    "# Step 3: Identify inflection points (changes in the sign of the second derivative)\n",
    "# We're interested in local minima and maxima as potential inflection points\n",
    "inflection_points_indices = argrelextrema(kde_pdf_second_derivative, np.greater)[0]  # Local maxima\n",
    "inflection_points_indices = np.append(inflection_points_indices, argrelextrema(kde_pdf_second_derivative, np.less)[0])  # Local minima\n",
    "inflection_points = x_grid[inflection_points_indices]\n",
    "\n",
    "# Plotting for visualization\n",
    "plt.figure(figsize=(12, 7))\n",
    "\n",
    "# KDE plot\n",
    "plt.plot(x_grid, kde_pdf, label='KDE', color='blue')\n",
    "\n",
    "# Second derivative plot\n",
    "plt.plot(x_grid, kde_pdf_second_derivative, label='Second Derivative', color='green')\n",
    "\n",
    "# Mark inflection points\n",
    "for inflection_point in inflection_points:\n",
    "    plt.axvline(x=inflection_point, color='red', linestyle='--')\n",
    "\n",
    "plt.title('KDE and Second Derivative of Similarity Scores')\n",
    "plt.xlabel('Similarity Score')\n",
    "plt.ylabel('Density')\n",
    "plt.legend()\n",
    "plt.grid(True)\n",
    "plt.show()\n",
    "\n",
    "inflection_points"
   ]
  },
  {
   "cell_type": "code",
   "execution_count": null,
   "metadata": {},
   "outputs": [],
   "source": [
    "five = np.percentile(similarity_matrix, 5)\n",
    "ninety_five = np.percentile(similarity_matrix, 95)\n",
    "\n",
    "inflection_points = np.append(inflection_points, [ninety_five, five])"
   ]
  },
  {
   "cell_type": "code",
   "execution_count": null,
   "metadata": {},
   "outputs": [],
   "source": [
    "with open('inflection_points.pkl', 'wb') as f:\n",
    "    pickle.dump(inflection_points, f)"
   ]
  }
 ],
 "metadata": {
  "kernelspec": {
   "display_name": "Python 3",
   "language": "python",
   "name": "python3"
  },
  "language_info": {
   "name": "python",
   "version": "3.10.6"
  }
 },
 "nbformat": 4,
 "nbformat_minor": 2
}
