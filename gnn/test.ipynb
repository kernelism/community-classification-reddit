{
 "cells": [
  {
   "cell_type": "code",
   "execution_count": 132,
   "metadata": {},
   "outputs": [],
   "source": [
    "import torch\n",
    "import numpy as np\n",
    "from sklearn.metrics.pairwise import cosine_similarity\n",
    "from torch_geometric.data import Data\n",
    "from torch_geometric.nn import SAGEConv, BatchNorm\n",
    "import json\n",
    "import networkx as nx\n",
    "from torch import nn\n",
    "from sklearn.model_selection import train_test_split\n",
    "from sklearn.metrics import f1_score, adjusted_rand_score, normalized_mutual_info_score"
   ]
  },
  {
   "cell_type": "code",
   "execution_count": 127,
   "metadata": {},
   "outputs": [],
   "source": [
    "embedding = np.load(\"./ds/v1/graph2vec_embeddings.npy\")\n",
    "labels = np.load(\"./ds/v1/graph2vec_labels.npy\")"
   ]
  },
  {
   "cell_type": "code",
   "execution_count": 120,
   "metadata": {},
   "outputs": [],
   "source": [
    "class NodeClassificationGNN(nn.Module):\n",
    "    def __init__(self, input_dim, hidden_channel, num_classes, dropout=0.3, activation=nn.LeakyReLU):\n",
    "        super().__init__()\n",
    "        self.activation = activation()  # Initialize activation function\n",
    "        self.conv1 = SAGEConv(input_dim, hidden_channel)\n",
    "        self.bn1 = BatchNorm(hidden_channel)  # BatchNorm for first layer\n",
    "        self.conv2 = SAGEConv(hidden_channel, hidden_channel)\n",
    "        self.bn2 = BatchNorm(hidden_channel)  # BatchNorm for second layer\n",
    "        self.dropout = nn.Dropout(dropout)\n",
    "        \n",
    "        # MLP for final classification\n",
    "        self.mlp = nn.Sequential(\n",
    "            nn.Linear(hidden_channel, hidden_channel),\n",
    "            self.activation,\n",
    "            nn.Dropout(dropout),\n",
    "            nn.Linear(hidden_channel, num_classes)\n",
    "        )\n",
    "\n",
    "    def forward(self, x, edge_index):\n",
    "        # First convolutional layer with batch normalization and activation\n",
    "        x = self.conv1(x, edge_index)\n",
    "        x = self.bn1(x)\n",
    "        x = self.activation(x)\n",
    "        x = self.dropout(x)\n",
    "        \n",
    "        # Second convolutional layer with batch normalization and activation\n",
    "        x = self.conv2(x, edge_index)\n",
    "        x = self.bn2(x)\n",
    "        x = self.activation(x)\n",
    "        x = self.dropout(x)\n",
    "        \n",
    "        # Pass through the MLP for final predictions\n",
    "        x = self.mlp(x)\n",
    "        return x\n"
   ]
  },
  {
   "cell_type": "code",
   "execution_count": 124,
   "metadata": {},
   "outputs": [],
   "source": [
    "def build_similarity_graph(embeddings, threshold):\n",
    "    num_nodes = embeddings.shape[0]\n",
    "    similarity_matrix = cosine_similarity(embeddings)\n",
    "\n",
    "    G = nx.Graph()\n",
    "    for i in range(num_nodes):\n",
    "        G.add_node(i, embedding=embeddings[i])\n",
    "\n",
    "    for i in range(num_nodes):\n",
    "        for j in range(i + 1, num_nodes):\n",
    "            if similarity_matrix[i, j] >= threshold:\n",
    "                G.add_edge(i, j, weight=similarity_matrix[i, j])\n",
    "\n",
    "    return G\n",
    "\n",
    "def convert_to_torch_geometric(graph):\n",
    "    node_features = np.array([graph.nodes[n]['embedding'] for n in graph.nodes])\n",
    "    edge_index = np.array(list(graph.edges)).T\n",
    "    edge_weights = np.array([graph[u][v]['weight'] for u, v in graph.edges])\n",
    "\n",
    "    x = torch.tensor(node_features, dtype=torch.float)\n",
    "    edge_index = torch.tensor(edge_index, dtype=torch.long)\n",
    "    edge_weights = torch.tensor(edge_weights, dtype=torch.float)\n",
    "\n",
    "    data = Data(x=x, edge_index=edge_index, edge_attr=edge_weights)\n",
    "\n",
    "    return data\n",
    "\n",
    "def split_data(data, labels, train_ratio=0.7, val_ratio=0.2):\n",
    "    train_idx, temp_idx, train_labels, temp_labels = train_test_split(\n",
    "        np.arange(len(labels)), labels, test_size=(1 - train_ratio), stratify=labels\n",
    "    )\n",
    "    val_size = val_ratio / (1 - train_ratio)\n",
    "    val_idx, test_idx, val_labels, test_labels = train_test_split(\n",
    "        temp_idx, temp_labels, test_size=(1 - val_size), stratify=temp_labels\n",
    "    )\n",
    "    return train_idx, val_idx, test_idx\n"
   ]
  },
  {
   "cell_type": "code",
   "execution_count": 128,
   "metadata": {},
   "outputs": [
    {
     "name": "stdout",
     "output_type": "stream",
     "text": [
      "Using best threshold: 0.11000000000000001\n"
     ]
    },
    {
     "name": "stderr",
     "output_type": "stream",
     "text": [
      "/var/folders/np/gp8d_33j4jxd2pd79hf5w03r0000gn/T/ipykernel_63254/1627688617.py:8: FutureWarning: You are using `torch.load` with `weights_only=False` (the current default value), which uses the default pickle module implicitly. It is possible to construct malicious pickle data which will execute arbitrary code during unpickling (See https://github.com/pytorch/pytorch/blob/main/SECURITY.md#untrusted-models for more details). In a future release, the default value for `weights_only` will be flipped to `True`. This limits the functions that could be executed during unpickling. Arbitrary objects will no longer be allowed to be loaded via this mode unless they are explicitly allowlisted by the user via `torch.serialization.add_safe_globals`. We recommend you start setting `weights_only=True` for any use case where you don't have full control of the loaded file. Please open an issue on GitHub for any issues related to this experimental feature.\n",
      "  checkpoint = torch.load(model_path, map_location='cpu')\n"
     ]
    },
    {
     "name": "stdout",
     "output_type": "stream",
     "text": [
      "Accuracy: 0.9127\n",
      "F1 Score: 0.9050\n"
     ]
    }
   ],
   "source": [
    "with open('/Users/arjuns/Downloads/model_results/v2/working_dir/results/cv_results.json', 'r') as f:\n",
    "    results = json.load(f)\n",
    "\n",
    "best_threshold = results['best_threshold']\n",
    "print(f\"Using best threshold: {best_threshold}\")\n",
    "\n",
    "model_path = f'/Users/arjuns/Downloads/model_results/v2/working_dir/checkpoints/best_model_threshold_{best_threshold:.2f}.pt'\n",
    "checkpoint = torch.load(model_path, map_location='cpu')\n",
    "\n",
    "input_dim = 128\n",
    "hidden_channels = 256\n",
    "out_ch = len(set(labels))\n",
    "\n",
    "model = NodeClassificationGNN(input_dim, hidden_channels, out_ch, dropout=0.7)\n",
    "model.load_state_dict(checkpoint['model_state_dict'])\n",
    "\n",
    "sim_graph = build_similarity_graph(embedding, best_threshold)\n",
    "data = convert_to_torch_geometric(sim_graph)\n",
    "\n",
    "train_idx, val_idx, test_idx = split_data(data, labels)\n",
    "sim_graph = build_similarity_graph(embedding, best_threshold)\n",
    "data = convert_to_torch_geometric(sim_graph)\n",
    "data.y = torch.tensor(labels, dtype=torch.long)\n",
    "\n",
    "train_mask = torch.zeros(data.num_nodes, dtype=torch.bool)\n",
    "val_mask = torch.zeros(data.num_nodes, dtype=torch.bool)\n",
    "test_mask = torch.zeros(data.num_nodes, dtype=torch.bool)\n",
    "train_mask[train_idx] = True\n",
    "val_mask[val_idx] = True\n",
    "test_mask[test_idx] = True\n",
    "data.train_mask = train_mask\n",
    "data.val_mask = val_mask\n",
    "data.test_mask = test_mask\n",
    "\n",
    "model.eval()\n",
    "out = model(data.x, data.edge_index)\n",
    "pred = out.argmax(dim=-1)\n",
    "correct = pred[data.test_mask] == data.y[data.test_mask]\n",
    "acc = correct.sum().item() / correct.size(0)\n",
    "print(f\"Accuracy: {acc:.4f}\")\n",
    "\n",
    "f1 = f1_score(data.y[data.test_mask].numpy(), pred[data.test_mask].numpy(), average='micro')\n",
    "print(f\"F1 Score: {f1:.4f}\")"
   ]
  },
  {
   "cell_type": "code",
   "execution_count": 133,
   "metadata": {},
   "outputs": [
    {
     "name": "stdout",
     "output_type": "stream",
     "text": [
      "Adjusted Rand Score: 0.8379\n",
      "Normalized Mutual Information: 0.9043\n"
     ]
    }
   ],
   "source": [
    "adjusted_rand_score_val = adjusted_rand_score(data.y[data.test_mask].numpy(), pred[data.test_mask].numpy())\n",
    "print(f\"Adjusted Rand Score: {adjusted_rand_score_val:.4f}\")\n",
    "\n",
    "nmi = normalized_mutual_info_score(data.y[data.test_mask].numpy(), pred[data.test_mask].numpy())\n",
    "print(f\"Normalized Mutual Information: {nmi:.4f}\")"
   ]
  },
  {
   "cell_type": "code",
   "execution_count": null,
   "metadata": {},
   "outputs": [],
   "source": []
  }
 ],
 "metadata": {
  "kernelspec": {
   "display_name": "Python 3",
   "language": "python",
   "name": "python3"
  },
  "language_info": {
   "codemirror_mode": {
    "name": "ipython",
    "version": 3
   },
   "file_extension": ".py",
   "mimetype": "text/x-python",
   "name": "python",
   "nbconvert_exporter": "python",
   "pygments_lexer": "ipython3",
   "version": "3.10.6"
  }
 },
 "nbformat": 4,
 "nbformat_minor": 2
}
